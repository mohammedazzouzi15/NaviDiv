{
 "cells": [
  {
   "cell_type": "markdown",
   "metadata": {},
   "source": [
    "The ScafffoldNetwork code added in RDKit release 2020.03 (described here: https://doi.org/10.1021/acs.jcim.0c00296) has a lot of options. In this blog post I'll show how to use an interactive view based on [ipycytoscape](https://github.com/QuantStack/ipycytoscape) to explore the scaffold networks and look at the effects of the various options. There's not a lot of text here since this is mainly about providing the interactive demo. Of course it doesn't work in blogger, so you'll need to download the notebook from here to try it yourself.\n",
    "\n",
    "\n",
    "This draws on a [blog post from pen](https://iwatobipen.wordpress.com/2020/03/30/draw-scaffold-tree-as-network-with-molecular-image-rdkit-cytoscape/) as well as some of the [examples/tutorials](https://github.com/QuantStack/ipycytoscape/tree/master/examples) provided by Mariana Meireles and the rest of the ipycytoscape team."
   ]
  },
  {
   "cell_type": "code",
   "execution_count": 1,
   "metadata": {},
   "outputs": [
    {
     "name": "stdout",
     "output_type": "stream",
     "text": [
      "2020.09.1dev1\n",
      "Populating the interactive namespace from numpy and matplotlib\n"
     ]
    }
   ],
   "source": [
    "from rdkit import Chem\n",
    "from rdkit.Chem import Draw\n",
    "from rdkit.Chem.Draw import IPythonConsole\n",
    "IPythonConsole.drawOptions.maxFontSize=18\n",
    "from rdkit.Chem import rdDepictor\n",
    "from urllib import parse\n",
    "from rdkit.Chem.Draw import rdMolDraw2D\n",
    "import gzip\n",
    "import time\n",
    "import rdkit\n",
    "import logging\n",
    "from rdkit import RDLogger\n",
    "from rdkit.Chem.Scaffolds import rdScaffoldNetwork\n",
    "\n",
    "print(rdkit.__version__)\n",
    "%load_ext sql\n",
    "%pylab inline"
   ]
  },
  {
   "cell_type": "markdown",
   "metadata": {},
   "source": [
    "The dataset I'll use here is the set of \"very active\" molecules from ChEMBL that I put together for an [earlier blog post](https://rdkit.blogspot.com/2020/05/binary-molecules-and-cartridge.html). Start by reading that in and making sure we have unique SMILES:"
   ]
  },
  {
   "cell_type": "code",
   "execution_count": 2,
   "metadata": {},
   "outputs": [
    {
     "data": {
      "text/plain": [
       "22626"
      ]
     },
     "execution_count": 2,
     "metadata": {},
     "output_type": "execute_result"
    }
   ],
   "source": [
    "moldict = dict((Chem.MolToSmiles(x),x) for x in \\\n",
    "               Chem.ForwardSDMolSupplier(gzip.open('../data/chembl26_very_active.sdf.gz')) if x.GetNumAtoms()<75)\n",
    "len(moldict)"
   ]
  },
  {
   "cell_type": "code",
   "execution_count": 3,
   "metadata": {},
   "outputs": [],
   "source": [
    "ms = list(moldict.values())"
   ]
  },
  {
   "cell_type": "code",
   "execution_count": 4,
   "metadata": {},
   "outputs": [],
   "source": [
    "from rdkit.Chem.Draw import rdMolDraw2D\n",
    "import networkx as nx\n",
    "from networkx.readwrite import cytoscape_data\n",
    "from urllib import parse\n",
    "\n",
    "# some code borrowed from pen: \n",
    "# https://iwatobipen.wordpress.com/2020/03/30/draw-scaffold-tree-as-network-with-molecular-image-rdkit-cytoscape/\n",
    "def smi2svg(smi):\n",
    "    mol = Chem.MolFromSmiles(smi)\n",
    "    try:\n",
    "        Chem.rdmolops.Kekulize(mol)\n",
    "    except:\n",
    "        pass\n",
    "    drawer = rdMolDraw2D.MolDraw2DSVG(350, 300)\n",
    "    rdMolDraw2D.PrepareAndDrawMolecule(drawer,mol)\n",
    "    drawer.FinishDrawing()\n",
    "    svg = drawer.GetDrawingText()\n",
    "    return svg\n",
    "  \n",
    "def smi2image(smi):\n",
    "    svg_string = smi2svg(smi)\n",
    "    impath = 'data:image/svg+xml;charset=utf-8,' + parse.quote(svg_string, safe=\"\")\n",
    "    return impath\n"
   ]
  },
  {
   "cell_type": "code",
   "execution_count": 24,
   "metadata": {},
   "outputs": [
    {
     "data": {
      "application/vnd.jupyter.widget-view+json": {
       "model_id": "258e885082624c65bb4541f53f770fd8",
       "version_major": 2,
       "version_minor": 0
      },
      "text/plain": [
       "interactive(children=(Dropdown(description='which', options=(0, 1, 2, 3, 4, 5, 6, 7, 8, 9, 10, 11, 12, 13, 14,…"
      ]
     },
     "metadata": {},
     "output_type": "display_data"
    }
   ],
   "source": [
    "import ipycytoscape\n",
    "import ipywidgets as widgets\n",
    "from ipywidgets import interact,fixed\n",
    "\n",
    "\n",
    "tms = ms[:50]\n",
    "def show_scaffolds(mols,which=None,layout='dagre',includeGenericScaffolds=False,includeGenericBondScaffolds=False,\n",
    "                   includeScaffoldsWithAttachments=True,includeScaffoldsWithoutAttachments=False,\n",
    "                   pruneBeforeFragmenting=True,\n",
    "                  keepOnlyFirstFragment=True):\n",
    "    # the scaffold generation process is verbose, disable the messages sent to the info log:\n",
    "    RDLogger.DisableLog('rdApp.info')\n",
    "\n",
    "    if which is not None:\n",
    "        mols = [mols[which]]\n",
    "    scaffParams = rdScaffoldNetwork.ScaffoldNetworkParams()\n",
    "    scaffParams.collectMolCounts = True\n",
    "    scaffParams.includeGenericScaffolds = includeGenericScaffolds\n",
    "    scaffParams.includeScaffoldsWithoutAttachments = includeScaffoldsWithoutAttachments\n",
    "    scaffParams.keepOnlyFirstFragment = keepOnlyFirstFragment\n",
    "    scaffParams.includeGenericBondScaffolds = includeGenericBondScaffolds\n",
    "    scaffParams.includeScaffoldsWithAttachments = includeScaffoldsWithAttachments\n",
    "    scaffParams.pruneBeforeFragmenting = pruneBeforeFragmenting\n",
    "    net = rdScaffoldNetwork.CreateScaffoldNetwork(mols,scaffParams)\n",
    "\n",
    "    g = nx.graph.Graph()\n",
    "    for idx, node in enumerate(net.nodes):\n",
    "        g.add_node(idx, count=f'count: {net.molCounts[idx]}', smiles=node, img=smi2image(node), hac=Chem.MolFromSmiles(node).GetNumAtoms())\n",
    "    g.add_edges_from([(e.beginIdx,e.endIdx) for e in net.edges])\n",
    "    \n",
    "    directed = ipycytoscape.CytoscapeWidget()\n",
    "    directed.set_style([{\n",
    "                            'selector': 'node',\n",
    "                            'css': {\n",
    "                                'content': 'data(count)',\n",
    "                                'text-valign': 'top',\n",
    "                                'color': 'white',\n",
    "                                'text-outline-width': 2,\n",
    "                                'text-outline-color': '#9dbaea',\n",
    "                                'shape' : 'rectangle',\n",
    "                                'width':350,\n",
    "                                'height':300,\n",
    "                                'background-color': '#9dbaea',\n",
    "                                'background-fit':'contain',\n",
    "                                'background-image':'data(img)',\n",
    "\n",
    "                            }\n",
    "                            },\n",
    "                            {\n",
    "                            'selector': 'edge',\n",
    "                            'style': {\n",
    "                                'width': 4,\n",
    "                                'line-color': '#9dbaea',\n",
    "                                'target-arrow-shape': 'triangle',\n",
    "                                'target-arrow-color': '#9dbaea',\n",
    "                                'curve-style': 'bezier'\n",
    "                            }\n",
    "                            },\n",
    "                            {\n",
    "                            'selector': ':selected',\n",
    "                            'css': {\n",
    "                                'background-color': 'black',\n",
    "                                'line-color': 'black',\n",
    "                                'target-arrow-color': 'black',\n",
    "                                'source-arrow-color': 'black',\n",
    "                                'text-outline-color': 'black'\n",
    "                            }}\n",
    "                            ])\n",
    "    directed.set_layout(name=layout, nodeSpacing=50, edgeLengthVal=50)\n",
    "    directed.graph.add_graph_from_networkx(g, directed=True)\n",
    "    return directed\n",
    "\n",
    "\n",
    "@interact(mols=fixed(tms),which=range(0,len(tms)),layout=['dagre','breadthfirst','concentric','cose'])\n",
    "def interactively_show_scaffolds(mols,which=None,layout='dagre',includeGenericScaffolds=False,includeGenericBondScaffolds=False,\n",
    "                   includeScaffoldsWithAttachments=True,includeScaffoldsWithoutAttachments=False,\n",
    "                   pruneBeforeFragmenting=True,\n",
    "                  keepOnlyFirstFragment=True):\n",
    "    # the scaffold generation process is verbose, disable the messages sent to the info log:\n",
    "    RDLogger.DisableLog('rdApp.info')\n",
    "\n",
    "    if which is None:\n",
    "        return\n",
    "    return show_scaffolds(mols,which=which,layout=layout,includeGenericScaffolds=includeGenericScaffolds,\n",
    "                          includeGenericBondScaffolds=includeGenericBondScaffolds,\n",
    "                          includeScaffoldsWithAttachments=includeScaffoldsWithAttachments,\n",
    "                         includeScaffoldsWithoutAttachments=includeScaffoldsWithoutAttachments,\n",
    "                         pruneBeforeFragmenting=pruneBeforeFragmenting,keepOnlyFirstFragment=keepOnlyFirstFragment)"
   ]
  },
  {
   "cell_type": "code",
   "execution_count": null,
   "metadata": {},
   "outputs": [],
   "source": []
  }
 ],
 "metadata": {
  "kernelspec": {
   "display_name": "Python 3",
   "language": "python",
   "name": "python3"
  },
  "language_info": {
   "codemirror_mode": {
    "name": "ipython",
    "version": 3
   },
   "file_extension": ".py",
   "mimetype": "text/x-python",
   "name": "python",
   "nbconvert_exporter": "python",
   "pygments_lexer": "ipython3",
   "version": "3.7.4"
  }
 },
 "nbformat": 4,
 "nbformat_minor": 4
}